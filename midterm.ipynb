{
 "cells": [
  {
   "cell_type": "markdown",
   "metadata": {},
   "source": [
    "# CS 190H/292H Midterm\n",
    "### Approximating the Sigmoid activation function by way of transition probability response function\n",
    "Firstly, it's important we define some basic functions. We need not implement a circuit just yet, as we can model everything as some basic matrix multiplication functions. <br>\n",
    "We need to make:\n",
    "1. A rotation gate\n",
    "2. A unitary as a composite of equiangular rotation gates\n",
    "3. The transition probability response function itself"
   ]
  },
  {
   "cell_type": "code",
   "execution_count": 3,
   "metadata": {},
   "outputs": [],
   "source": [
    "import numpy as np\n",
    "from typing import List\n",
    "from scipy.linalg import expm\n",
    "import matplotlib.pyplot as plt"
   ]
  },
  {
   "cell_type": "code",
   "execution_count": 4,
   "metadata": {},
   "outputs": [
    {
     "name": "stdout",
     "output_type": "stream",
     "text": [
      "[[ 0.70710678+3.08148791e-33j -0.70710678-4.32978028e-17j]\n",
      " [ 0.70710678-4.32978028e-17j  0.70710678+0.00000000e+00j]]\n"
     ]
    }
   ],
   "source": [
    "# A basic rotation operator, generally fix theta\n",
    "def R(phi: float, theta: float):\n",
    "    X = np.array([[0, 1], [1, 0]])\n",
    "    Y = np.array([ [0, -1j], [1j, 0] ])\n",
    "    return expm(-1j * theta / 2 * (np.cos(phi)*X + np.sin(phi)*Y))\n",
    "\n",
    "print(R(np.pi / 2, np.pi / 2))"
   ]
  },
  {
   "cell_type": "code",
   "execution_count": 5,
   "metadata": {},
   "outputs": [
    {
     "name": "stdout",
     "output_type": "stream",
     "text": [
      "[[ 0.70710678+3.08148791e-33j -0.70710678-4.32978028e-17j]\n",
      " [ 0.70710678-4.32978028e-17j  0.70710678+0.00000000e+00j]]\n"
     ]
    }
   ],
   "source": [
    "# vphi -> list of phi_1, phi_2, ..., etc\n",
    "def eqang_U(vphi: List[float], theta: float):\n",
    "    U = np.array([[1.+0.j, 0.+0.j], [0.+0.j, 1.+0.j]])\n",
    "    for phi in vphi:\n",
    "        U = U @ R(phi, theta)\n",
    "    return U\n",
    "\n",
    "print(eqang_U([np.pi/2], np.pi/2))"
   ]
  },
  {
   "cell_type": "code",
   "execution_count": null,
   "metadata": {},
   "outputs": [
    {
     "data": {
      "text/plain": [
       "Text(0, 0.5, '$f_{\\\\vec{\\\\phi}}(\\\\theta)$')"
      ]
     },
     "execution_count": 6,
     "metadata": {},
     "output_type": "execute_result"
    },
    {
     "data": {
      "image/png": "[encoded data removed]",
      "text/plain": [
       "<Figure size 640x480 with 1 Axes>"
      ]
     },
     "metadata": {},
     "output_type": "display_data"
    }
   ],
   "source": [
    "#Transition response function\n",
    "# Want to find a vphi s.t. tprf(vphi, theta) ~= sigmoid(theta)\n",
    "def tprf(vphi: List[float], theta: float):\n",
    "    ket0, ket1 = np.array([1, 0]), np.array([0,1])\n",
    "    return np.pow(np.abs(ket0.transpose().conj() @ ((eqang_U(vphi, theta)) @ ket1) ), 2)\n",
    "\n",
    "x = np.linspace(0, 6.3, 200)\n",
    "y = [tprf([0, 1.5, 0], theta) for theta in x]\n",
    "plt.plot(x, y)\n",
    "plt.xlabel(r'$\\theta$')\n",
    "plt.ylabel(r'$f_{\\vec{\\phi}}(\\theta)$')"
   ]
  },
  {
   "cell_type": "markdown",
   "metadata": {},
   "source": [
    "We now have a way to plot and track the probability response function $f_{\\vec{\\phi}}(\\theta)=|\\bra{0} R_{\\phi_0}(\\theta)R_{\\phi_1}(\\theta)\\cdots R_{\\phi_N}(\\theta)\\ket{1}|^2$ and functions to return corresponding unitaries for both the composite gate and the individual equiangular gates.\n",
    "# Modelling the Sigmoid\n",
    "### Straight-forward approach - let $L$ be as large as we need it to be\n",
    "Following the routine given in [https://arxiv.org/pdf/2002.11649](https://arxiv.org/pdf/2002.11649), we will see how this algorithim pans, since the point is to have speedup over the Remez algorithim. We first need:"
   ]
  },
  {
   "cell_type": "code",
   "execution_count": null,
   "metadata": {},
   "outputs": [],
   "source": [
    "def qinfo_generator(phiset: List[float]):\n",
    "    phiinfo = {}\n",
    "    phiinfo[\"d\"] = len(phiset)\n",
    "    phiinfo[\"d_\"] = int((phiinfo[\"d\"] + 1) / 2 + 0.5)\n",
    "    phiinfo[\"cheb_roots\"] = [np.cos((2*i - 1)*np.pi / (4*phiinfo[\"d_\"])) for i in range(1, phiinfo[\"d_\"] + 1)]\n",
    "    phiinfo[\"phiset\"] = phiset\n",
    "    phiinfo[\"phihat\"] = phiset[:phiinfo[\"d_\"]]\n",
    "    phiinfo[\"Phi\"] = phiinfo[\"phihat\"] + reversed(phiinfo[\"phihat\"]) if phiinfo[\"d\"] % 2 == 1 else phiinfo[\"phihat\"]+reversed(phiinfo[\"phihat\"])[1:]\n",
    "\n",
    "def QSPBFGS(phihat_0: List[float], func, tolerance: float):\n",
    "    master = qinfo_generator(phihat_0)\n",
    "    objective_func = lambda qinfo: (1 / qinfo[\"d_\"])*sum([ np.abs(tprf(qinfo[\"Phi\"], qinfo[\"cheb_roots\"][i-1]) - func(qinfo[\"cheb_roots\"][i-1]) )**2 for i in range(1, qinfo[\"d_\"]) ])\n"
   ]
  },
  {
   "cell_type": "code",
   "execution_count": null,
   "metadata": {},
   "outputs": [],
   "source": []
  }
 ],
 "metadata": {
  "kernelspec": {
   "display_name": "pyvenv",
   "language": "python",
   "name": "python3"
  },
  "language_info": {
   "codemirror_mode": {
    "name": "ipython",
    "version": 3
   },
   "file_extension": ".py",
   "mimetype": "text/x-python",
   "name": "python",
   "nbconvert_exporter": "python",
   "pygments_lexer": "ipython3",
   "version": "3.11.2"
  }
 },
 "nbformat": 4,
 "nbformat_minor": 2
}
